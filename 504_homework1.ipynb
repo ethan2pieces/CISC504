{
 "cells": [
  {
   "cell_type": "code",
   "execution_count": null,
   "metadata": {},
   "outputs": [],
   "source": [
    "##Author:  Xin Dai"
   ]
  },
  {
   "cell_type": "code",
   "execution_count": 1,
   "metadata": {},
   "outputs": [
    {
     "name": "stdout",
     "output_type": "stream",
     "text": [
      "14\n",
      "122\n"
     ]
    }
   ],
   "source": [
    "##Question1\n",
    "## The first staement adds number 12 to number 2, so the reuslt is number 14\n",
    "## The second statement joins/concatenates string '12' with string '2', so the result is string '122'\n",
    "print (12 + 2)\n",
    "print ('12' + '2')"
   ]
  },
  {
   "cell_type": "code",
   "execution_count": 24,
   "metadata": {},
   "outputs": [],
   "source": [
    "#Question2\n #Please input number(s). The function will return the sum\n",
    "def getSum(*args):\n",
    "    print('You entered:')\n",
    "    sum = 0\n",
    "    for num in args:\n",
    "        print(num)\n",
    "        sum += num\n",
    "    print ('Total: %d' %sum)"
   ]
  },
  {
   "cell_type": "code",
   "execution_count": 27,
   "metadata": {},
   "outputs": [
    {
     "name": "stdout",
     "output_type": "stream",
     "text": [
      "You entered:\n",
      "1\n",
      "2\n",
      "3\n",
      "4\n",
      "5\n",
      "6\n",
      "Total: 21\n"
     ]
    }
   ],
   "source": [
    "getSum(1,2,3,4,5,6)"
   ]
  },
  {
   "cell_type": "code",
   "execution_count": 28,
   "metadata": {},
   "outputs": [],
   "source": [
    "## This function can help find the employee's address\n",
    "def findAddress(name):\n",
    "    if name == 'Ben':\n",
    "        print('14 Fiske Street')\n",
    "    elif name == 'Don':\n",
    "        print('23 Vest Street')\n",
    "    else:\n",
    "        print('Sorry %s is not in our database' %name)"
   ]
  },
  {
   "cell_type": "code",
   "execution_count": 30,
   "metadata": {},
   "outputs": [
    {
     "name": "stdout",
     "output_type": "stream",
     "text": [
      "14 Fiske Street\n"
     ]
    }
   ],
   "source": [
    "findAddress('Ben')"
   ]
  },
  {
   "cell_type": "code",
   "execution_count": 31,
   "metadata": {},
   "outputs": [
    {
     "name": "stdout",
     "output_type": "stream",
     "text": [
      "Sorry Tom is not in our database\n"
     ]
    }
   ],
   "source": [
    "findAddress('Tom')"
   ]
  },
  {
   "cell_type": "code",
   "execution_count": 32,
   "metadata": {},
   "outputs": [
    {
     "name": "stdout",
     "output_type": "stream",
     "text": [
      "5050\n"
     ]
    }
   ],
   "source": [
    "#Question3\n #This statement can get the sum of 1~100\n",
    "sum = 0\n",
    "for num in range(1,101):\n",
    "    sum += num\n",
    "print(sum)"
   ]
  }
 ],
 "metadata": {
  "kernelspec": {
   "display_name": "Python 3",
   "language": "python",
   "name": "python3"
  },
  "language_info": {
   "codemirror_mode": {
    "name": "ipython",
    "version": 3
   },
   "file_extension": ".py",
   "mimetype": "text/x-python",
   "name": "python",
   "nbconvert_exporter": "python",
   "pygments_lexer": "ipython3",
   "version": "3.7.0"
  }
 },
 "nbformat": 4,
 "nbformat_minor": 2
}
